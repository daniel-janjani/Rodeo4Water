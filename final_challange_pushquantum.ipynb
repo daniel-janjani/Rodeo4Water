{
  "cells": [
    {
      "cell_type": "markdown",
      "id": "9136668b-7449-493d-9e3b-0a7b948c2d88",
      "metadata": {
        "id": "9136668b-7449-493d-9e3b-0a7b948c2d88"
      },
      "source": [
        "<div style=\"width: 80%; display: flex; justify-content: flex-start; align-items: center; margin-left: 20%;\">\n",
        "    <img src=\"https://docs.classiq.io/resources/classiq-logo.svg\" alt=\"classiq_logo\" width=\"400\" height=\"auto\" style=\"margin-right: 50px;\" />\n",
        "    <img src=\"https://docs.classiq.io/resources/pushquantum_logo.png\" alt=\"pushquantum_logo\" width=\"400\" height=\"auto\" />\n",
        "</div>"
      ]
    },
    {
      "cell_type": "markdown",
      "id": "title",
      "metadata": {
        "id": "title"
      },
      "source": [
        "# Classiq Challange: Estimating Molecular Spectra Using the Rodeo Algorithm"
      ]
    },
    {
      "cell_type": "markdown",
      "id": "6234c61c-2ffb-4ae4-ad97-433a05716bf2",
      "metadata": {
        "id": "6234c61c-2ffb-4ae4-ad97-433a05716bf2"
      },
      "source": [
        "Welcome to the Classiq challenge of the 2024 PushQuantum Hackathon!\n",
        "This Jupyter notebook is the framework for the challenge and you should follow it in order to solve it using Classiq.\n",
        "\n",
        "The notebook has 2 parts:\n",
        "1. A warm-up session, just to get up to speed with a small example of Classiq\n",
        "2. The challenge itself, including what you need to create, what's the format, and how you can check yourself\n",
        "\n",
        "Additional resources you should use are\n",
        "- The IDE of the classiq platform at [platform.classiq.io](https://platform.classiq.io/)\n",
        "- The [community Slack of Classiq](https://short.classiq.io/join-slack) - Classiq's team will answer any question you have over there, including implementation questions\n",
        "- [Classiq's documentation](https://docs.classiq.io/latest/) with the dedicated:\n",
        "    - [Classiq 101](https://docs.classiq.io/latest/classiq_101/)\n",
        "    -  [Python SDK Reference](https://docs.classiq.io/latest/sdk-reference/)\n",
        "    -  [Our GitHub Repostory](https://github.com/Classiq/classiq-library)\n",
        "\n",
        "Good luck!"
      ]
    },
    {
      "cell_type": "markdown",
      "id": "3a4994cb-315b-4d87-ba64-95623ca36711",
      "metadata": {
        "id": "3a4994cb-315b-4d87-ba64-95623ca36711"
      },
      "source": [
        "### Challenge's Abstract"
      ]
    },
    {
      "cell_type": "markdown",
      "id": "613ea9c5-dcf9-4846-b4ef-ba3cd7b24b28",
      "metadata": {
        "id": "613ea9c5-dcf9-4846-b4ef-ba3cd7b24b28"
      },
      "source": [
        "Estimating the energy eigenvalues of a Hamiltonian is a fundamental task in quantum chemistry, material science and condensed matter physics. These eigenvalues provide critical insights into the underlying system, whether it be a molecule, material, or a more general quantum system. Many applications are based on the accurate estimation on the accurate estimation of the energy values like photodynamic therapy for cancer treatment, molecular drug design, and development of efficient energy storage devices.\n",
        "\n",
        "Quantum computers main advantage will arguably be 'to simulate nature', thus they might offer a crucial advantage in estimating the energy values of Hamiltonians representing molecules, proteins, and materials.\n",
        "\n",
        "The [Rodeo Algorithm](https://arxiv.org/pdf/2009.04092) is a quantum algorithm for estimating the energy eigenvalues of any given Hamiltonian within a specified energy interval. In this challenge, you will implement it using the Classiq platform! Specifically for this challenge, the Rodeo algorithm is used to solve molecular Hamiltonians.\n",
        "\n",
        "Roughly Speaking, the Rodeo Algorithm filters linearly spaced discrete sets of energies within a given interval, isolating and refining the true eigenvalues of the Hamiltonian. The algorithm can accurately identify energy levels by iteratively \"sweeping\" through the energy spectrum, making it a practical approach for quantum computations.\n",
        "\n",
        "This challenge provides an opportunity to implement a state-of-the-art quantum algorithm, bridging theoretical concepts with real-world applications in quantum computing.\n",
        "\n",
        "This is a scheme of the Rodeo Algorithm:"
      ]
    },
    {
      "cell_type": "markdown",
      "id": "5e18de0a-6131-4657-af9c-6688745545bf",
      "metadata": {
        "id": "5e18de0a-6131-4657-af9c-6688745545bf"
      },
      "source": [
        "<div style=\"text-align: center;\">\n",
        "    <img src=\"https://docs.classiq.io/resources/rodeo2.png\" alt=\"Rodeo.png\" width=\"600\" />\n",
        "</div>"
      ]
    },
    {
      "cell_type": "markdown",
      "id": "e20137bf-c228-47c5-926d-91046a269ca6",
      "metadata": {
        "id": "e20137bf-c228-47c5-926d-91046a269ca6"
      },
      "source": [
        "<p style=\"text-align: center;\">\n",
        "Fig.1 from the original paper: <a href=\"https://arxiv.org/pdf/2009.04092\">Rodeo Algorithm for Quantum Computing</a> by Kenneth Choi et al.\n",
        "</p>"
      ]
    },
    {
      "cell_type": "markdown",
      "id": "setup",
      "metadata": {
        "id": "setup"
      },
      "source": [
        "### Make Sure You Are Ready to Go"
      ]
    },
    {
      "cell_type": "markdown",
      "id": "install-classiq",
      "metadata": {
        "id": "install-classiq"
      },
      "source": [
        "If you haven't done it yet, try running the following lines of code and use the [regestration and installation](https://docs.classiq.io/latest/classiq_101/registration_installations/) page if you are having difficulty setting up your environment.\\\n",
        "Uncomment and run the following command to install or update to the latest version of the Classiq SDK (if not installed yet):"
      ]
    },
    {
      "cell_type": "code",
      "execution_count": 1,
      "id": "install-code",
      "metadata": {
        "colab": {
          "base_uri": "https://localhost:8080/"
        },
        "id": "install-code",
        "outputId": "83016c1e-a556-418a-d074-d333b6215f70"
      },
      "outputs": [
        {
          "output_type": "stream",
          "name": "stdout",
          "text": [
            "Collecting classiq\n",
            "  Downloading classiq-0.60.0-py3-none-any.whl.metadata (3.5 kB)\n",
            "Collecting ConfigArgParse<2.0.0,>=1.5.3 (from classiq)\n",
            "  Downloading ConfigArgParse-1.7-py3-none-any.whl.metadata (23 kB)\n",
            "Collecting Pyomo<6.6,>=6.5 (from classiq)\n",
            "  Downloading Pyomo-6.5.0-cp310-cp310-manylinux_2_17_x86_64.manylinux2014_x86_64.whl.metadata (7.5 kB)\n",
            "Collecting black<25.0,>=24.0 (from classiq)\n",
            "  Downloading black-24.10.0-cp310-cp310-manylinux_2_17_x86_64.manylinux2014_x86_64.manylinux_2_28_x86_64.whl.metadata (79 kB)\n",
            "\u001b[2K     \u001b[90m━━━━━━━━━━━━━━━━━━━━━━━━━━━━━━━━━━━━━━━━\u001b[0m \u001b[32m79.2/79.2 kB\u001b[0m \u001b[31m627.0 kB/s\u001b[0m eta \u001b[36m0:00:00\u001b[0m\n",
            "\u001b[?25hRequirement already satisfied: httpx<1,>=0.23.0 in /usr/local/lib/python3.10/dist-packages (from classiq) (0.27.2)\n",
            "Requirement already satisfied: keyring<24.0.0,>=23.5.0 in /usr/lib/python3/dist-packages (from classiq) (23.5.0)\n",
            "Requirement already satisfied: matplotlib<4.0.0,>=3.4.3 in /usr/local/lib/python3.10/dist-packages (from classiq) (3.8.0)\n",
            "Collecting networkx<3.0.0,>=2.5.1 (from classiq)\n",
            "  Downloading networkx-2.8.8-py3-none-any.whl.metadata (5.1 kB)\n",
            "Requirement already satisfied: numexpr<3.0.0,>=2.7.3 in /usr/local/lib/python3.10/dist-packages (from classiq) (2.10.1)\n",
            "Requirement already satisfied: numpy<2.0.0,>=1.20.1 in /usr/local/lib/python3.10/dist-packages (from classiq) (1.26.4)\n",
            "Collecting packaging<24.0,>=23.2 (from classiq)\n",
            "  Downloading packaging-23.2-py3-none-any.whl.metadata (3.2 kB)\n",
            "Requirement already satisfied: pandas<3.0.0,>=1.4.0 in /usr/local/lib/python3.10/dist-packages (from classiq) (2.2.2)\n",
            "Requirement already satisfied: plotly<6.0.0,>=5.7.0 in /usr/local/lib/python3.10/dist-packages (from classiq) (5.24.1)\n",
            "Requirement already satisfied: pydantic<2.10.0,>=2.9.0 in /usr/local/lib/python3.10/dist-packages (from classiq) (2.9.2)\n",
            "Collecting pydantic-settings<3.0.0,>=2.4.0 (from classiq)\n",
            "  Downloading pydantic_settings-2.6.1-py3-none-any.whl.metadata (3.5 kB)\n",
            "Requirement already satisfied: scipy<2.0.0,>=1.10.0 in /usr/local/lib/python3.10/dist-packages (from classiq) (1.13.1)\n",
            "Requirement already satisfied: sympy<2.0.0,>=1.13.0 in /usr/local/lib/python3.10/dist-packages (from classiq) (1.13.1)\n",
            "Requirement already satisfied: tabulate<1,>=0.8.9 in /usr/local/lib/python3.10/dist-packages (from classiq) (0.9.0)\n",
            "Requirement already satisfied: click>=8.0.0 in /usr/local/lib/python3.10/dist-packages (from black<25.0,>=24.0->classiq) (8.1.7)\n",
            "Collecting mypy-extensions>=0.4.3 (from black<25.0,>=24.0->classiq)\n",
            "  Downloading mypy_extensions-1.0.0-py3-none-any.whl.metadata (1.1 kB)\n",
            "Collecting pathspec>=0.9.0 (from black<25.0,>=24.0->classiq)\n",
            "  Downloading pathspec-0.12.1-py3-none-any.whl.metadata (21 kB)\n",
            "Requirement already satisfied: platformdirs>=2 in /usr/local/lib/python3.10/dist-packages (from black<25.0,>=24.0->classiq) (4.3.6)\n",
            "Requirement already satisfied: tomli>=1.1.0 in /usr/local/lib/python3.10/dist-packages (from black<25.0,>=24.0->classiq) (2.1.0)\n",
            "Requirement already satisfied: typing-extensions>=4.0.1 in /usr/local/lib/python3.10/dist-packages (from black<25.0,>=24.0->classiq) (4.12.2)\n",
            "Requirement already satisfied: anyio in /usr/local/lib/python3.10/dist-packages (from httpx<1,>=0.23.0->classiq) (3.7.1)\n",
            "Requirement already satisfied: certifi in /usr/local/lib/python3.10/dist-packages (from httpx<1,>=0.23.0->classiq) (2024.8.30)\n",
            "Requirement already satisfied: httpcore==1.* in /usr/local/lib/python3.10/dist-packages (from httpx<1,>=0.23.0->classiq) (1.0.7)\n",
            "Requirement already satisfied: idna in /usr/local/lib/python3.10/dist-packages (from httpx<1,>=0.23.0->classiq) (3.10)\n",
            "Requirement already satisfied: sniffio in /usr/local/lib/python3.10/dist-packages (from httpx<1,>=0.23.0->classiq) (1.3.1)\n",
            "Requirement already satisfied: h11<0.15,>=0.13 in /usr/local/lib/python3.10/dist-packages (from httpcore==1.*->httpx<1,>=0.23.0->classiq) (0.14.0)\n",
            "Requirement already satisfied: contourpy>=1.0.1 in /usr/local/lib/python3.10/dist-packages (from matplotlib<4.0.0,>=3.4.3->classiq) (1.3.1)\n",
            "Requirement already satisfied: cycler>=0.10 in /usr/local/lib/python3.10/dist-packages (from matplotlib<4.0.0,>=3.4.3->classiq) (0.12.1)\n",
            "Requirement already satisfied: fonttools>=4.22.0 in /usr/local/lib/python3.10/dist-packages (from matplotlib<4.0.0,>=3.4.3->classiq) (4.55.0)\n",
            "Requirement already satisfied: kiwisolver>=1.0.1 in /usr/local/lib/python3.10/dist-packages (from matplotlib<4.0.0,>=3.4.3->classiq) (1.4.7)\n",
            "Requirement already satisfied: pillow>=6.2.0 in /usr/local/lib/python3.10/dist-packages (from matplotlib<4.0.0,>=3.4.3->classiq) (11.0.0)\n",
            "Requirement already satisfied: pyparsing>=2.3.1 in /usr/local/lib/python3.10/dist-packages (from matplotlib<4.0.0,>=3.4.3->classiq) (3.2.0)\n",
            "Requirement already satisfied: python-dateutil>=2.7 in /usr/local/lib/python3.10/dist-packages (from matplotlib<4.0.0,>=3.4.3->classiq) (2.8.2)\n",
            "Requirement already satisfied: pytz>=2020.1 in /usr/local/lib/python3.10/dist-packages (from pandas<3.0.0,>=1.4.0->classiq) (2024.2)\n",
            "Requirement already satisfied: tzdata>=2022.7 in /usr/local/lib/python3.10/dist-packages (from pandas<3.0.0,>=1.4.0->classiq) (2024.2)\n",
            "Requirement already satisfied: tenacity>=6.2.0 in /usr/local/lib/python3.10/dist-packages (from plotly<6.0.0,>=5.7.0->classiq) (9.0.0)\n",
            "Requirement already satisfied: annotated-types>=0.6.0 in /usr/local/lib/python3.10/dist-packages (from pydantic<2.10.0,>=2.9.0->classiq) (0.7.0)\n",
            "Requirement already satisfied: pydantic-core==2.23.4 in /usr/local/lib/python3.10/dist-packages (from pydantic<2.10.0,>=2.9.0->classiq) (2.23.4)\n",
            "Collecting python-dotenv>=0.21.0 (from pydantic-settings<3.0.0,>=2.4.0->classiq)\n",
            "  Downloading python_dotenv-1.0.1-py3-none-any.whl.metadata (23 kB)\n",
            "Collecting ply (from Pyomo<6.6,>=6.5->classiq)\n",
            "  Downloading ply-3.11-py2.py3-none-any.whl.metadata (844 bytes)\n",
            "Requirement already satisfied: mpmath<1.4,>=1.1.0 in /usr/local/lib/python3.10/dist-packages (from sympy<2.0.0,>=1.13.0->classiq) (1.3.0)\n",
            "Requirement already satisfied: six>=1.5 in /usr/local/lib/python3.10/dist-packages (from python-dateutil>=2.7->matplotlib<4.0.0,>=3.4.3->classiq) (1.16.0)\n",
            "Requirement already satisfied: exceptiongroup in /usr/local/lib/python3.10/dist-packages (from anyio->httpx<1,>=0.23.0->classiq) (1.2.2)\n",
            "Downloading classiq-0.60.0-py3-none-any.whl (515 kB)\n",
            "\u001b[2K   \u001b[90m━━━━━━━━━━━━━━━━━━━━━━━━━━━━━━━━━━━━━━━━\u001b[0m \u001b[32m515.1/515.1 kB\u001b[0m \u001b[31m21.0 MB/s\u001b[0m eta \u001b[36m0:00:00\u001b[0m\n",
            "\u001b[?25hDownloading black-24.10.0-cp310-cp310-manylinux_2_17_x86_64.manylinux2014_x86_64.manylinux_2_28_x86_64.whl (1.8 MB)\n",
            "\u001b[2K   \u001b[90m━━━━━━━━━━━━━━━━━━━━━━━━━━━━━━━━━━━━━━━━\u001b[0m \u001b[32m1.8/1.8 MB\u001b[0m \u001b[31m21.5 MB/s\u001b[0m eta \u001b[36m0:00:00\u001b[0m\n",
            "\u001b[?25hDownloading ConfigArgParse-1.7-py3-none-any.whl (25 kB)\n",
            "Downloading networkx-2.8.8-py3-none-any.whl (2.0 MB)\n",
            "\u001b[2K   \u001b[90m━━━━━━━━━━━━━━━━━━━━━━━━━━━━━━━━━━━━━━━━\u001b[0m \u001b[32m2.0/2.0 MB\u001b[0m \u001b[31m33.4 MB/s\u001b[0m eta \u001b[36m0:00:00\u001b[0m\n",
            "\u001b[?25hDownloading packaging-23.2-py3-none-any.whl (53 kB)\n",
            "\u001b[2K   \u001b[90m━━━━━━━━━━━━━━━━━━━━━━━━━━━━━━━━━━━━━━━━\u001b[0m \u001b[32m53.0/53.0 kB\u001b[0m \u001b[31m3.9 MB/s\u001b[0m eta \u001b[36m0:00:00\u001b[0m\n",
            "\u001b[?25hDownloading pydantic_settings-2.6.1-py3-none-any.whl (28 kB)\n",
            "Downloading Pyomo-6.5.0-cp310-cp310-manylinux_2_17_x86_64.manylinux2014_x86_64.whl (10.7 MB)\n",
            "\u001b[2K   \u001b[90m━━━━━━━━━━━━━━━━━━━━━━━━━━━━━━━━━━━━━━━━\u001b[0m \u001b[32m10.7/10.7 MB\u001b[0m \u001b[31m31.2 MB/s\u001b[0m eta \u001b[36m0:00:00\u001b[0m\n",
            "\u001b[?25hDownloading mypy_extensions-1.0.0-py3-none-any.whl (4.7 kB)\n",
            "Downloading pathspec-0.12.1-py3-none-any.whl (31 kB)\n",
            "Downloading python_dotenv-1.0.1-py3-none-any.whl (19 kB)\n",
            "Downloading ply-3.11-py2.py3-none-any.whl (49 kB)\n",
            "\u001b[2K   \u001b[90m━━━━━━━━━━━━━━━━━━━━━━━━━━━━━━━━━━━━━━━━\u001b[0m \u001b[32m49.6/49.6 kB\u001b[0m \u001b[31m2.4 MB/s\u001b[0m eta \u001b[36m0:00:00\u001b[0m\n",
            "\u001b[?25hInstalling collected packages: ply, python-dotenv, Pyomo, pathspec, packaging, networkx, mypy-extensions, ConfigArgParse, black, pydantic-settings, classiq\n",
            "  Attempting uninstall: packaging\n",
            "    Found existing installation: packaging 24.2\n",
            "    Uninstalling packaging-24.2:\n",
            "      Successfully uninstalled packaging-24.2\n",
            "  Attempting uninstall: networkx\n",
            "    Found existing installation: networkx 3.4.2\n",
            "    Uninstalling networkx-3.4.2:\n",
            "      Successfully uninstalled networkx-3.4.2\n",
            "\u001b[31mERROR: pip's dependency resolver does not currently take into account all the packages that are installed. This behaviour is the source of the following dependency conflicts.\n",
            "nx-cugraph-cu12 24.10.0 requires networkx>=3.0, but you have networkx 2.8.8 which is incompatible.\u001b[0m\u001b[31m\n",
            "\u001b[0mSuccessfully installed ConfigArgParse-1.7 Pyomo-6.5.0 black-24.10.0 classiq-0.60.0 mypy-extensions-1.0.0 networkx-2.8.8 packaging-23.2 pathspec-0.12.1 ply-3.11 pydantic-settings-2.6.1 python-dotenv-1.0.1\n"
          ]
        }
      ],
      "source": [
        "!pip install -U classiq"
      ]
    },
    {
      "cell_type": "markdown",
      "id": "authenticate-classiq",
      "metadata": {
        "id": "authenticate-classiq"
      },
      "source": [
        "Uncomment and run the following command if your machine has not been authenticated yet:"
      ]
    },
    {
      "cell_type": "code",
      "execution_count": 3,
      "id": "authenticate-code",
      "metadata": {
        "id": "authenticate-code",
        "colab": {
          "base_uri": "https://localhost:8080/"
        },
        "outputId": "013ec457-9818-4720-f5ec-f700e899f279"
      },
      "outputs": [
        {
          "output_type": "stream",
          "name": "stdout",
          "text": [
            "Your user code: ZNCX-HBLB\n",
            "If a browser doesn't automatically open, please visit this URL from any trusted device: https://auth.classiq.io/activate?user_code=ZNCX-HBLB\n"
          ]
        }
      ],
      "source": [
        "import classiq\n",
        "classiq.authenticate()"
      ]
    },
    {
      "cell_type": "markdown",
      "id": "73abede7-6a19-4296-b4b0-33f1e1801679",
      "metadata": {
        "id": "73abede7-6a19-4296-b4b0-33f1e1801679"
      },
      "source": [
        "## Challenge Warm-Up"
      ]
    },
    {
      "cell_type": "markdown",
      "id": "c94b4ed3-dbc1-469c-9a6a-5ff8559ef3f6",
      "metadata": {
        "id": "c94b4ed3-dbc1-469c-9a6a-5ff8559ef3f6"
      },
      "source": [
        "A quick warm-up task will ensure you are ready to dive into the challenge confidently. Here’s what you need to do:\n",
        "\n",
        "1. Create a `qfunc` named `prep`:\n",
        "   - This function should prepare the $|-\\rangle$ state, assuming the input state is $|0\\rangle$.\n",
        "\n",
        "2. Create a `qfunc` named `trotter`:\n",
        "   - This function should utilize the `suzuki_trotter()` method.\n",
        "   - Inputs: A variable of the type `QArray[QBit]`.\n",
        "   - Implementation details:\n",
        "     - Call the `suzuki_trotter()` function with the following parameters:\n",
        "       - `HAMILTONIAN`: Use the given dummy Hamiltonian.\n",
        "       - `evolution_coefficient`: Set to 1.\n",
        "       - `order`: Set to 1.\n",
        "       - `repetitions`: Set to 30.\n",
        "       - `qbv`: Pass the declared quantum variable.\n",
        "\n",
        "3. Create a `main` function:\n",
        "   - This function should:\n",
        "     - Use the `prep` function to prepare an auxiliary qubit named `aux` in the $|-\\rangle$ state.\n",
        "     - Use the auxiliary qubit as a `control` for the `trotter` function, which should act on another qubit. (Read more on `control`:[here](https://docs.classiq.io/latest/qmod-reference/language-reference/statements/control/?h=control))\n",
        "     - Finally, apply an `H` gate on the auxiliary qubit.\n",
        "\n",
        "By completing this warm-up, you will practice the essential steps needed for the challenge. Take it step by step, starting simple, and then make your code robust and adaptable!"
      ]
    },
    {
      "cell_type": "code",
      "execution_count": 4,
      "id": "7f3de58b-bcf1-4556-9e59-1c3cd4749ce3",
      "metadata": {
        "id": "7f3de58b-bcf1-4556-9e59-1c3cd4749ce3"
      },
      "outputs": [],
      "source": [
        "from classiq import *\n",
        "import numpy as np\n",
        "\n",
        "HAMILTONIAN = [PauliTerm([Pauli.Z], 1)]  # Dummy Hamiltonian\n",
        "ham=np.matrix(hamiltonian_to_matrix(HAMILTONIAN)) #we convert it to np"
      ]
    },
    {
      "cell_type": "code",
      "source": [
        "import numpy as np"
      ],
      "metadata": {
        "id": "Ec3K9sGMlXoT"
      },
      "id": "Ec3K9sGMlXoT",
      "execution_count": null,
      "outputs": []
    },
    {
      "cell_type": "code",
      "source": [
        "sigma_I=np.matrix([[1,0],[0,1]])\n",
        "sigma_Z=np.matrix([[1,0],[0,-1]])\n",
        "sigma_X=np.matrix([[0,1],[1,0]])\n",
        "sigma_Y=np.matrix([[0,-1j],[1j,0]])\n",
        "\n",
        "Pal=[sigma_I,sigma_X,sigma_Y,sigma_Z] #the list of all Pauli matrices\n",
        "Pal"
      ],
      "metadata": {
        "colab": {
          "base_uri": "https://localhost:8080/"
        },
        "id": "srmAvUFMqpzC",
        "outputId": "83525999-bd8c-4a85-f719-310d5b162df6"
      },
      "id": "srmAvUFMqpzC",
      "execution_count": null,
      "outputs": [
        {
          "output_type": "execute_result",
          "data": {
            "text/plain": [
              "[matrix([[1, 0],\n",
              "         [0, 1]]),\n",
              " matrix([[0, 1],\n",
              "         [1, 0]]),\n",
              " matrix([[ 0.+0.j, -0.-1.j],\n",
              "         [ 0.+1.j,  0.+0.j]]),\n",
              " matrix([[ 1,  0],\n",
              "         [ 0, -1]])]"
            ]
          },
          "metadata": {},
          "execution_count": 97
        }
      ]
    },
    {
      "cell_type": "code",
      "source": [
        "def pauli_coordinates(mat):\n",
        "  return [np.trace(np.matmul(x,mat))/2 for x in Pal]"
      ],
      "metadata": {
        "id": "s_EmNCZpntLp"
      },
      "id": "s_EmNCZpntLp",
      "execution_count": null,
      "outputs": []
    },
    {
      "cell_type": "code",
      "source": [
        "pauli_coordinates(ham) #this allows us to easily see the relationship with the pauli matrices"
      ],
      "metadata": {
        "colab": {
          "base_uri": "https://localhost:8080/"
        },
        "id": "xRNFTebdnuLa",
        "outputId": "a027017e-fbb7-4b8a-9849-3d700172ccf8"
      },
      "id": "xRNFTebdnuLa",
      "execution_count": null,
      "outputs": [
        {
          "output_type": "execute_result",
          "data": {
            "text/plain": [
              "[0j, 0j, 0j, (1+0j)]"
            ]
          },
          "metadata": {},
          "execution_count": 99
        }
      ]
    },
    {
      "cell_type": "code",
      "execution_count": null,
      "id": "18bc5174-9fab-4f19-ba8e-4fb58763f01d",
      "metadata": {
        "id": "18bc5174-9fab-4f19-ba8e-4fb58763f01d"
      },
      "outputs": [],
      "source": [
        "### Your Code Goes Here: ###\n",
        "@qfunc\n",
        "def prep(input: QBit)->None: #classiq convention;remember to name Qbit and so on\n",
        "  X(input)\n",
        "  H(input)\n",
        "\n",
        "\n",
        "@qfunc\n",
        "def main(out: Output[QBit],aux:Output[QBit]): #remember the main\n",
        "    allocate(1, out) #allocate \"gives\" a certain number of qubit to out\n",
        "    allocate(1,aux)\n",
        "    prep(aux)\n",
        "    control(aux,lambda:\n",
        "    suzuki_trotter(\n",
        "        HAMILTONIAN, #approximates the effect of hamiltonian on a state\n",
        "        evolution_coefficient=1,\n",
        "        order=1,\n",
        "        repetitions=30,\n",
        "        qbv=out,\n",
        "    ))\n",
        "    H(aux)\n"
      ]
    },
    {
      "cell_type": "code",
      "execution_count": null,
      "id": "09f0c14d-2c74-4661-81ab-ac5197ffea66",
      "metadata": {
        "id": "09f0c14d-2c74-4661-81ab-ac5197ffea66",
        "colab": {
          "base_uri": "https://localhost:8080/"
        },
        "outputId": "a3ce499a-f24b-4be2-afe8-59caf5f70672"
      },
      "outputs": [
        {
          "output_type": "stream",
          "name": "stdout",
          "text": [
            "Opening: https://platform.classiq.io/circuit/d42f1a3f-f176-4d56-8035-c05855726636?version=0.59.0\n"
          ]
        }
      ],
      "source": [
        "qmod = create_model(main)\n",
        "qprog = synthesize(qmod)\n",
        "show(qprog)"
      ]
    },
    {
      "cell_type": "markdown",
      "id": "6b62fafe-0cf7-45ca-8103-3e6cfad4327f",
      "metadata": {
        "id": "6b62fafe-0cf7-45ca-8103-3e6cfad4327f"
      },
      "source": [
        "<details>\n",
        "<summary>Preparation Task Reminder</summary>\n",
        "    \n",
        "This is a reminder of the preparation task provided after the workshop:\n",
        "\n",
        "- Design your own Quantum Phase Estimation (QPE) algorithm using the Suzuki-Trotter method as the unitary.\n",
        "  - Learn more about QPE: [Wiki](https://en.wikipedia.org/wiki/Quantum_phase_estimation_algorithm)\n",
        "  - Refer to the Suzuki-Trotter Documentation: [Classiq Docs](https://docs.classiq.io/latest/explore/functions/qmod_library_reference/qmod_core_library/hamiltonian_evolution/suzuki_trotter/suzuki_trotter/)\n",
        "- Optionally, experiment by adding an RX rotation gate to the phase register (control qubits), where the angle for the n-th rotation qubit is set to π/n.\n",
        "\n",
        "If you've already completed these tasks, they may prove useful during the challenge. If not, consider taking this extra step to enhance your preparation. :)\n",
        "\n",
        "</details>"
      ]
    },
    {
      "cell_type": "markdown",
      "id": "0ff3314e-7312-4f9b-b2aa-9612c417c4dd",
      "metadata": {
        "id": "0ff3314e-7312-4f9b-b2aa-9612c417c4dd"
      },
      "source": [
        "While these task is not required for submission, keeping it in mind could help you adrass the more complex problem during the hackathon!"
      ]
    },
    {
      "cell_type": "markdown",
      "id": "challenge-start",
      "metadata": {
        "id": "challenge-start"
      },
      "source": [
        "## The Challenge Itself"
      ]
    },
    {
      "cell_type": "markdown",
      "id": "8cd896ac-7f28-49ec-b51e-3f413000dc22",
      "metadata": {
        "id": "8cd896ac-7f28-49ec-b51e-3f413000dc22"
      },
      "source": [
        "The challenge is composed of 2 steps:\n",
        "\n",
        "1. In the first step, you will implement the algorithm to solve the simple Hamiltonian representing the H₂ molecule.\n",
        "2. The second step will be to adapt your implementation to a more complex Hamiltonian representing the H₂O molecule\n",
        "\n",
        "This notebook should guide you (and help you) in successfully solving the challenge."
      ]
    },
    {
      "cell_type": "markdown",
      "id": "98ee6812-bd84-4252-9b77-fd9870b081fc",
      "metadata": {
        "id": "98ee6812-bd84-4252-9b77-fd9870b081fc"
      },
      "source": [
        "Note that the Hamiltonians are given already in their Pauli form. Some assumptions were made to reduce the complexity and runtime for the sake of the hackathon"
      ]
    },
    {
      "cell_type": "markdown",
      "id": "903b9d48-3faf-4d99-9f35-f2c20e255bad",
      "metadata": {
        "id": "903b9d48-3faf-4d99-9f35-f2c20e255bad"
      },
      "source": [
        "### Submission"
      ]
    },
    {
      "cell_type": "markdown",
      "id": "aa701ef2-60c7-4e4d-b06a-aca7f54a75b5",
      "metadata": {
        "id": "aa701ef2-60c7-4e4d-b06a-aca7f54a75b5"
      },
      "source": [
        "You are required to submit the following:\n",
        "\n",
        "1. Jupyter Notebook (`.ipynb`)  \n",
        "    - Ensure your code and explanations are well-documented.\n",
        "\n",
        "2. Output graphs of Averaged Energy Population Distribution (for each part of the challenge):  \n",
        "    - Plot normalized population as a function of energy values.\n",
        "    - Identify and mark the peaks on the graph.\n",
        "    - Specify the parameters used to produce the graph.\n",
        "\n",
        "3. Quantum program files (`.qprog`)  \n",
        "   - Submit a `.qprog` file corresponding to each part of the challenge (you can use the `save_qprog` function defined below, or export it from the platform using it's GUI)\n",
        "\n",
        "Create a `.zip` file and submit it all together in the following link: [here](https://fvrn0h72gwo.typeform.com/to/WNGZ7hIH)"
      ]
    },
    {
      "cell_type": "code",
      "execution_count": null,
      "id": "1d156298",
      "metadata": {
        "id": "1d156298"
      },
      "outputs": [],
      "source": [
        "def save_qprog(qprog, file_name):\n",
        "    \"\"\"\n",
        "    A simple function that saves your quantum program (qprog) as a text file in a .qprog format.\n",
        "    The function saves the qprog in the same directory as the current Python file you are working on.\n",
        "\n",
        "    Inputs:\n",
        "        - qprog: the quantum program (the returned value of the synthesize() function)\n",
        "        - file_name: a string that determines the file name\n",
        "    \"\"\"\n",
        "    file = open(file_name + \".qprog\", \"w\")\n",
        "    file.write(qprog)\n",
        "    file.close()"
      ]
    },
    {
      "cell_type": "markdown",
      "id": "61a913e1-fcac-4d99-9902-ef9608ad0da1",
      "metadata": {
        "id": "61a913e1-fcac-4d99-9902-ef9608ad0da1"
      },
      "source": [
        "### Evaluation Criteria"
      ]
    },
    {
      "cell_type": "markdown",
      "id": "05ed41a0-c590-47a9-bbec-50c3508ce766",
      "metadata": {
        "id": "05ed41a0-c590-47a9-bbec-50c3508ce766"
      },
      "source": [
        "The evaluation criteria, in order of priority, are as follows:\n",
        "\n",
        "- Efficient use of high-level algorithmic design concepts\n",
        "- Accurate solutions for each step\n",
        "- Ability to explain your solution and the decisions made\n",
        "- Readability\n",
        "- Creativity"
      ]
    },
    {
      "cell_type": "markdown",
      "id": "fcf00e82-a448-4ee2-8cfa-49f7e2c3d632",
      "metadata": {
        "id": "fcf00e82-a448-4ee2-8cfa-49f7e2c3d632"
      },
      "source": [
        "<details>\n",
        "<summary>Hints</summary>\n",
        "\n",
        "- If you have completed the preparation task, use it for a smooth start.\n",
        "- Try to understand the parameters of the problem and consider their significance.\n",
        "- Experiment by running the algorithm with different parameter values to observe the effects.\n",
        "- Identify which parts of the algorithm should be adapted for different Hamiltonians, as suggested by the paper, to optimize its results.\n",
        "- It is always recommended to start simple and then try to make your code more robust and flexible.\n",
        "\n",
        "</details>"
      ]
    },
    {
      "cell_type": "markdown",
      "id": "part1-intro",
      "metadata": {
        "id": "part1-intro"
      },
      "source": [
        "### Part 1: Implementing the Rodeo Algorithm for a 2D Hamiltonian"
      ]
    },
    {
      "cell_type": "markdown",
      "id": "70ebfaa3-4195-48f1-b820-b94a64a8efb1",
      "metadata": {
        "id": "70ebfaa3-4195-48f1-b820-b94a64a8efb1"
      },
      "source": [
        "\n",
        "In this part, you will implement the algorithm described in the paper to solve the following **2D Hamiltonian** representing the H₂ molecule:\n",
        "\n",
        "---\n",
        "\n",
        "#### Steps:\n",
        "1. Find the eigenvalues of this Hamiltonian analytically using `hamiltonian_to_matrix(HAMILTONIAN)` and `numpy.`\n",
        "2. Use Classiq’s SDK for efficient  design of the Rodeo Algorithm to estimate the eigenvalues of the Hamiltonian."
      ]
    },
    {
      "cell_type": "code",
      "execution_count": 157,
      "id": "part1-hamiltonian",
      "metadata": {
        "id": "part1-hamiltonian"
      },
      "outputs": [],
      "source": [
        "import numpy as np\n",
        "\n",
        "from classiq import *\n",
        "\n",
        "np.random.seed(0)  # Please don't change\n",
        "\n",
        "# Define the 2D Hamiltonian\n",
        "HAMILTONIAN = [\n",
        "    PauliTerm([Pauli.I, Pauli.I], -1.0523),\n",
        "    PauliTerm([Pauli.I, Pauli.Z], 0.3979),\n",
        "    PauliTerm([Pauli.Z, Pauli.I], -0.3979),\n",
        "    PauliTerm([Pauli.Z, Pauli.Z], -0.0112),\n",
        "    PauliTerm([Pauli.X, Pauli.X], 0.1809),\n",
        "]"
      ]
    },
    {
      "cell_type": "markdown",
      "id": "70dac6e7-63ad-4446-8801-9aec7db33c57",
      "metadata": {
        "id": "70dac6e7-63ad-4446-8801-9aec7db33c57"
      },
      "source": [
        "### Analytical Solution"
      ]
    },
    {
      "cell_type": "code",
      "source": [
        "#We find the eigenvectors and eigenvalues of HAM using numpy"
      ],
      "metadata": {
        "id": "7lFKfAJMVNxY"
      },
      "id": "7lFKfAJMVNxY",
      "execution_count": null,
      "outputs": []
    },
    {
      "cell_type": "code",
      "execution_count": 158,
      "id": "8b82f870-3129-4ea3-bfea-d04004ad106f",
      "metadata": {
        "id": "8b82f870-3129-4ea3-bfea-d04004ad106f",
        "colab": {
          "base_uri": "https://localhost:8080/"
        },
        "outputId": "8c321408-61a9-4082-b7a5-612bf62a570b"
      },
      "outputs": [
        {
          "output_type": "stream",
          "name": "stdout",
          "text": [
            "[-1.85720199 -1.2444     -0.8826     -0.22499801]\n"
          ]
        }
      ],
      "source": [
        "### Your Code Goes Here ###\n",
        "#HAM is the Hamiltonian as a np.matrix object\n",
        "HAM=np.matrix(hamiltonian_to_matrix(HAMILTONIAN))\n",
        "\n",
        "#finding the eigenvalues (and eigenvectors) of HAM\n",
        "eigenvalues,eigenvectors=np.linalg.eigh(HAM)\n",
        "\n",
        "#print the eigenvalues\n",
        "print(eigenvalues)"
      ]
    },
    {
      "cell_type": "markdown",
      "id": "4c67245a-7bf8-4b97-a104-f0813763dd6e",
      "metadata": {
        "id": "4c67245a-7bf8-4b97-a104-f0813763dd6e"
      },
      "source": [
        "### Rodeo implementation for H₂ molecule"
      ]
    },
    {
      "cell_type": "code",
      "source": [
        "import numpy as np\n",
        "import classiq\n",
        "from classiq import *\n",
        "from classiq.execution import ExecutionSession\n",
        "import matplotlib.pyplot as plt\n",
        "from matplotlib.pyplot import *\n",
        "\n",
        "\n",
        "#this class perform the rodeo estimation of the eigenvalues of a given nehative semidefinite self-adjoint matrix, it also contains the counts of the [1,1,1,1...] and their\n",
        "#corresponding energies\n",
        "class eigenvalues_Rodeo:\n",
        "\n",
        "#hamiltonian is the hamiltonian of the problem, initial_state is the initial guessed eigenvector expressed as an array (not NP array!) of amplitudes\n",
        "#the computational basis for this implementation,sigma is the standard deviation of the t parameter, N_param is the number of t parameters,\n",
        "#order is the order of the suzuki_trotter approximation, repetition is the number of repetition parameter\n",
        "#in the suzuki trotter, E_min and E_max are the range of energies to consider. If E_min is not given then it is automatically estimated.\n",
        "#number of intervals is how many intervals we should split E_max-E_min,superposition tell if we should apply the hadamard tranform on the initial state or not\n",
        "#show plots tells if it should plot the counts of [1,1,1,1,...] or not\n",
        "  def __init__(self,hamiltonian,initial_state=[],sigma=15,N_param=6,order=1,repetitions=30,E_min=0,E_max=0,number_of_intervals=50,superposition=False,show_plot=False):\n",
        "    self.Ham=hamiltonian\n",
        "\n",
        "    if len(initial_state)==0:\n",
        "      self.initial_state=[int(i==0) for i in range(self.find_dimensionality())]\n",
        "    else:\n",
        "      self.initial_state=initial_state\n",
        "\n",
        "    self.S=sigma\n",
        "    self.N=N_param\n",
        "    self.order=order\n",
        "    self.r=repetitions\n",
        "\n",
        "\n",
        "    #if no bound is provided, we estimate it\n",
        "    if E_min==0:\n",
        "      self.E_min=-self.bound_E()\n",
        "    else:\n",
        "      self.E_min=E_min\n",
        "\n",
        "\n",
        "    self.E_max=E_max\n",
        "    self.number_of_intervals=number_of_intervals\n",
        "    self.superposition=superposition\n",
        "    self.eigenvalues=[]\n",
        "    self.results=[]\n",
        "    self.energies=[]\n",
        "\n",
        "    self.energies=np.linspace(self.E_min,self.E_max,self.number_of_intervals)\n",
        "\n",
        "    self.results=self.Rodeo()\n",
        "\n",
        "\n",
        "    if show_plot==True:\n",
        "      plt.plot(self.energies,self.results)\n",
        "      plt.show()\n",
        "\n",
        "\n",
        "\n",
        "    #the eigenvalues are the local maxima where we have the biggest count, we do it only if superposition is true\n",
        "    if self.superposition==True:\n",
        "      #calculate where the local maxima are, note that this process is not fool proof and there are better methods.\n",
        "      #A good idea would be to use topological data analysis(TDA) tecniques to find which maximum is just given by noise\n",
        "      #for example using the permanence of each maxima\n",
        "      max=self.local_maxima()\n",
        "\n",
        "      max_res=[self.results[i]*max[i] for i in range(len(self.results))]\n",
        "      for i in range(self.find_dimensionality()):\n",
        "        max=np.argmax(max_res)\n",
        "        self.eigenvalues.append(self.energies[max])\n",
        "        max_res[max]=0\n",
        "    else:\n",
        "      self.eigenvalues.append(self.energies[np.argmax(self.results)])\n",
        "\n",
        "\n",
        "\n",
        "\n",
        "\n",
        "  #given a positive semidefinite matrix A={a_ij}_ij, then max(lambda(A))\\leq min{max_{i} sum_{j} abs(a_ij), max_{j} sum_{i} abs(a_ij)}, that is it is less or equal\n",
        "  #to the minimum between the maximum of the column sum of the absolute values of A, and the row sum of the absolute values of A. Since we are considering only\n",
        "  #positive semidefinite matrices A, then -A is positive definite. Since the absolute value doesn't see sign then we can use the previous result also for negative\n",
        "  #semidefinite matrices\n",
        "  def bound_E(self):\n",
        "    dim=self.find_dimensionality()\n",
        "    H=hamiltonian_to_matrix(self.Ham)\n",
        "\n",
        "    MR=[0 for i in range(dim)]\n",
        "    for i in range(dim):\n",
        "      for j in range(dim):\n",
        "        MR[i]=MR[i]+abs(H[i][j])\n",
        "\n",
        "    MC=[0 for i in range(dim)]\n",
        "    for i in range(dim):\n",
        "      for j in range(dim):\n",
        "        MC[i]=MC[i]+abs(H[j][i])\n",
        "\n",
        "    return np.min([np.max(MR),np.max(MC)])\n",
        "\n",
        "\n",
        "\n",
        "\n",
        "  #dimension of the hamiltonian\n",
        "  def find_dimensionality(self):\n",
        "    return len(hamiltonian_to_matrix(self.Ham))\n",
        "\n",
        "\n",
        "\n",
        "\n",
        "  #rodeo method implementation\n",
        "  def Rodeo(self):\n",
        "      @qfunc\n",
        "      def main(aux:Output[QArray[QBit]],w:CReal):\n",
        "\n",
        "        #allocation block\n",
        "        #find number of qubits for the system\n",
        "          n_qubits_state=int(np.log2(len(self.initial_state)+0.001))\n",
        "        #allocate dim(hamiltonian) qubits\n",
        "          out=QArray(\"out\", QBit)\n",
        "\n",
        "        #preparation of the initial state\n",
        "          prepare_amplitudes(self.initial_state,0.01,out)\n",
        "\n",
        "        #prepare superposition\n",
        "          if self.superposition==True:\n",
        "            hadamard_transform(out)\n",
        "\n",
        "        #allocate N_param ancillary qubits\n",
        "          allocate(self.N, aux)\n",
        "\n",
        "        #preparation of the state minus\n",
        "          hadamard_transform(aux)\n",
        "          for i in range(self.N):\n",
        "            Z(aux[i])\n",
        "\n",
        "        #allocate the N_param time coefficients of the suzuki_trotter algorihm, with std deviation S\n",
        "          t=np.random.normal(0, self.S, self.N)\n",
        "\n",
        "        #controlled suzuki trotter step and phase step\n",
        "          for i in range(self.N):\n",
        "            control(aux[i],lambda:\n",
        "            suzuki_trotter(\n",
        "                self.Ham,\n",
        "                evolution_coefficient=t[i],\n",
        "                order=self.order,\n",
        "                repetitions=self.r,\n",
        "                qbv=out,))\n",
        "          for i in range(self.N):\n",
        "            PHASE(w*t[i],aux[i])\n",
        "\n",
        "        #finally we apply the hadamard gates\n",
        "          hadamard_transform(aux)\n",
        "\n",
        "\n",
        "      #execution step\n",
        "      qmod = create_model(main)\n",
        "      qprog = synthesize(qmod)\n",
        "\n",
        "      execution_session = ExecutionSession(qprog)\n",
        "\n",
        "      results=[]\n",
        "      for l in self.energies:\n",
        "        results.append(execution_session.sample({\"w\": l}))\n",
        "\n",
        "      results=self.find_ones(results)\n",
        "\n",
        "      return results\n",
        "\n",
        "\n",
        "\n",
        "\n",
        "\n",
        "  #return the number of times [1,1,1,1,1,1...] has been observed\n",
        "  def find_ones(self,results):\n",
        "      #find count [1,1,1,1,1...] per energy value\n",
        "      res=[] #we create an empty vector called res that will store the counts of the vector [1,1,1,1,1...]\n",
        "      k=0\n",
        "      for i in range(len(results)):\n",
        "        m=[1 for i in range(self.N)]\n",
        "        for j in range(len(results[i].parsed_counts)):\n",
        "          if str(list(results[i].parsed_counts[j])[0][1])==\"{'aux': \"+str(m)+\"}\" and k==0:   #doing stuffs\n",
        "            res.append(list(results[i].parsed_counts[j])[1][1])\n",
        "            k=1\n",
        "\n",
        "        if k==0:\n",
        "          res.append(0)\n",
        "        k=0\n",
        "\n",
        "      #return the count\n",
        "      return res\n",
        "\n",
        "\n",
        "\n",
        "\n",
        "\n",
        "  #find the local maxima of the counts of the vector [1,1,1,1,1,1,...] in function of the energies\n",
        "  def local_maxima(self):\n",
        "    perm=[int((i>0 and i<(len(self.results)-1)) and (self.results[i]>self.results[i-1] and self.results[i]>self.results[i+1]))+int(i==0 and self.results[i]>self.results[i+1])\n",
        "          + int(i==(len(self.results)-1) and self.results[i]>self.results[i-1]) for i in range(len(self.results))]\n",
        "\n",
        "    return perm\n",
        "\n"
      ],
      "metadata": {
        "id": "VBPLqVGTFn--"
      },
      "id": "VBPLqVGTFn--",
      "execution_count": 277,
      "outputs": []
    },
    {
      "cell_type": "code",
      "source": [
        "#rerun it for different basis to have all of 4 of them correct, it usually finds 3/4 eigenvalues\n",
        "eig=eigenvalues_Rodeo(hamiltonian=HAMILTONIAN,N_param=8,sigma=15,number_of_intervals=20,superposition=True,initial_state=[1/np.sqrt(3),1/np.sqrt(3),1/np.sqrt(3),0],show_plot=True)"
      ],
      "metadata": {
        "colab": {
          "base_uri": "https://localhost:8080/",
          "height": 430
        },
        "id": "XUY06SKMjopB",
        "outputId": "07300107-cc00-4c5e-b231-113ec87e7a0e"
      },
      "id": "XUY06SKMjopB",
      "execution_count": 282,
      "outputs": [
        {
          "output_type": "display_data",
          "data": {
            "text/plain": [
              "<Figure size 640x480 with 1 Axes>"
            ],
            "image/png": "[encoded data removed]"
          },
          "metadata": {}
        }
      ]
    },
    {
      "cell_type": "code",
      "source": [
        "print(eig.eigenvalues)"
      ],
      "metadata": {
        "colab": {
          "base_uri": "https://localhost:8080/"
        },
        "id": "zpWuXAXgSdiu",
        "outputId": "2717695a-266c-4ba7-9559-9ececb9e0ab2"
      },
      "id": "zpWuXAXgSdiu",
      "execution_count": 284,
      "outputs": [
        {
          "output_type": "stream",
          "name": "stdout",
          "text": [
            "[-1.2744, -0.8495999999999999, -0.21239999999999992, -1.8054]\n"
          ]
        }
      ]
    },
    {
      "cell_type": "code",
      "source": [
        "#Models paramethers\n",
        "S=8\n",
        "N=5\n",
        "states=[[int(i==j) for j in range(4)] for i in range(4)] #Hamiltonian matrices are self adjoint meaning that their eigenvalues form an orthonormal basis\n",
        "                                                        #this means that if we find a \"strong\" relation between the eigenvalue and the input state(using for example the count\n",
        "                                                        #of [1,1,1,1...] as measure) it would make sense to use orthogonal states. In our computations we will use the computational\n",
        "                                                        #base as input base as it can easily be verified (empirically) that it gives strong results. For weak measure one might\n",
        "                                                        #decide to change the current vector and rerun the code with a different vector and impose then orthogonality for the\n",
        "                                                        #successive vectors\n",
        "\n",
        "E=np.linspace(-2,0,num=number_intervals)\n",
        "#In the paper they set the RMS of t to 10, if f is normal then RMS(r)=\\sqrt(sigma^2+E[X]^2)\n",
        "sigma=[5+2*i for i in range(S)]\n",
        "N_param=[5+i for i in range(N)]"
      ],
      "metadata": {
        "id": "X0zqW2SvWYE8"
      },
      "id": "X0zqW2SvWYE8",
      "execution_count": null,
      "outputs": []
    },
    {
      "cell_type": "code",
      "source": [
        "#we run our algorithm inside a nested loop, we will thus find a matrix of results\n",
        "\n",
        "for k in N_param:\n",
        "  for j in sigma:\n",
        "      t=np.random.normal(0, j, k)\n",
        "\n",
        "      @qfunc\n",
        "      def main(aux:Output[QArray[QBit]],w:CReal):\n",
        "\n",
        "        #allocation block\n",
        "          out=QArray(\"out\", QBit)\n",
        "          allocate(2, out)\n",
        "          allocate(k, aux)\n",
        "\n",
        "        #preparation of the state minus\n",
        "          hadamard_transform(aux)\n",
        "          for i in range(k):\n",
        "            Z(aux[i])\n",
        "\n",
        "        #controlled suzuki trotter step and phase step\n",
        "          for i in range(k):\n",
        "            control(aux[i],lambda:\n",
        "            suzuki_trotter(\n",
        "                HAMILTONIAN,\n",
        "                evolution_coefficient=t[i],\n",
        "                order=1,\n",
        "                repetitions=30,\n",
        "                qbv=out,))\n",
        "          for i in range(k):\n",
        "            PHASE(w*t[i],aux[i])\n",
        "\n",
        "        #finally we had the hadamard\n",
        "          hadamard_transform(aux)\n",
        "\n",
        "\n",
        "    #execution step\n",
        "      qmod = create_model(main)\n",
        "      qprog = synthesize(qmod)\n",
        "\n",
        "      execution_session = ExecutionSession(qprog)\n",
        "\n",
        "    #we run a parametrized execution\n",
        "      for l in E:\n",
        "        results.append(execution_session.sample({\"w\": l}))"
      ],
      "metadata": {
        "id": "glHwCUXhWLux"
      },
      "id": "glHwCUXhWLux",
      "execution_count": null,
      "outputs": []
    },
    {
      "cell_type": "code",
      "source": [
        "#post processing of the results\n",
        "res=[] #we create an empty vector called res that will store the counts of the vector [1,1,1,1,1...]\n",
        "k=0\n",
        "for i in range(len(results)):\n",
        "  m=[1 for i in range(N_param[int(i/(10*S))])]\n",
        "  for j in range(len(results[i].parsed_counts)):\n",
        "    if str(list(results[i].parsed_counts[j])[0][1])==\"{'aux': \"+str(m)+\"}\" and k==0:   #doing stuff\n",
        "      res.append([list(results[i].parsed_counts[j])[1][1]])\n",
        "      k=1\n",
        "\n",
        "  if k==0:\n",
        "    res.append([0])\n",
        "  k=0\n"
      ],
      "metadata": {
        "id": "NYpMMxTJZLU6"
      },
      "id": "NYpMMxTJZLU6",
      "execution_count": null,
      "outputs": []
    },
    {
      "cell_type": "code",
      "source": [
        "#we create a matching between N,sigma and the corresponding counts\n",
        "l=[]\n",
        "c=0\n",
        "for i in range(len(N_param)):\n",
        "  for j in range(len(sigma)):\n",
        "    l.append([N_param[i],sigma[j],res[c][0]])\n",
        "    c=c+1"
      ],
      "metadata": {
        "id": "p0d3pLUSZ5WL"
      },
      "id": "p0d3pLUSZ5WL",
      "execution_count": null,
      "outputs": []
    },
    {
      "cell_type": "code",
      "source": [
        "#importing libraries for the plot\n",
        "import matplotlib.pyplot as plt\n",
        "from mpl_toolkits.mplot3d import Axes3D\n",
        "import numpy as np\n",
        "\n",
        "\n",
        "# Create figure and 3D axis\n",
        "fig = plt.figure()\n",
        "ax = fig.add_subplot(111, projection='3d')\n",
        "\n",
        "# Line plot\n",
        "ax.plot(m[:,0],m[:,1],m[:,2], color='r')\n",
        "\n",
        "# Labels and title\n",
        "ax.set_xlabel('N')\n",
        "ax.set_ylabel(\"$\\sigma$\")\n",
        "ax.set_zlabel('count')\n",
        "ax.set_title('3D Line Plot')\n",
        "\n",
        "# Show plot\n",
        "plt.show()\n",
        "\n",
        "\n",
        "#!!!!! note that this is not the correct way of doing this as one should consider all initial states, define some measure\n",
        "#and then perform a hypothesis test to see which paramethers are the best. That being said from this (incomplete) plot we say that the best values might be N=6,sigms=19"
      ],
      "metadata": {
        "id": "1_OoshMVaM30"
      },
      "id": "1_OoshMVaM30",
      "execution_count": null,
      "outputs": []
    },
    {
      "cell_type": "markdown",
      "source": [
        "import matplotlib.pyplot as plt\n",
        "\n",
        "plt.plot(E, res,\n",
        "    marker='o', # marker type\n",
        "    markerfacecolor='blue', # color of marker\n",
        "    markersize=4, # size of marker\n",
        "    color='skyblue', # color of line\n",
        "    linewidth=2 # change width of line\n",
        ")\n",
        "plt.xlabel('E')\n",
        "plt.ylabel('Prob')\n",
        "plt.show()"
      ],
      "metadata": {
        "id": "4pl5-CTL9CDY"
      },
      "id": "4pl5-CTL9CDY"
    },
    {
      "cell_type": "markdown",
      "id": "99d6b9eb-b95f-40dd-b156-743d96d2a491",
      "metadata": {
        "id": "99d6b9eb-b95f-40dd-b156-743d96d2a491"
      },
      "source": [
        "### Part 2: Implementing the Rodeo Algorithm for a 6D Hamiltonian"
      ]
    },
    {
      "cell_type": "markdown",
      "id": "part2",
      "metadata": {
        "id": "part2"
      },
      "source": [
        "In this part, you will extend the implementation of the Rodeo Algorithm to solve a more complex 6D Hamiltonian, which represents a reduced model of the water H₂O molecule.\n",
        "\n",
        "The **goal is to find the five lowest energy levels of this Hamiltonian.**\n",
        "\n",
        "---"
      ]
    },
    {
      "cell_type": "code",
      "execution_count": null,
      "id": "5714a550-e178-4936-bad7-5df6ff6b9e00",
      "metadata": {
        "id": "5714a550-e178-4936-bad7-5df6ff6b9e00"
      },
      "outputs": [],
      "source": [
        "import numpy as np\n",
        "\n",
        "from classiq import *\n",
        "\n",
        "np.random.seed(0)  # Please don't change\n",
        "\n",
        "HAMILTONIAN_H2O = [\n",
        "    PauliTerm([Pauli.I, Pauli.I, Pauli.I, Pauli.I, Pauli.I, Pauli.I], -12.533),\n",
        "    PauliTerm([Pauli.Z, Pauli.I, Pauli.I, Pauli.Z, Pauli.I, Pauli.I], -1.276),\n",
        "    PauliTerm([Pauli.Z, Pauli.Z, Pauli.I, Pauli.I, Pauli.I, Pauli.I], 0.627),\n",
        "    PauliTerm([Pauli.I, Pauli.Z, Pauli.I, Pauli.I, Pauli.Z, Pauli.I], -0.875),\n",
        "    PauliTerm([Pauli.I, Pauli.I, Pauli.Z, Pauli.Z, Pauli.I, Pauli.I], 0.452),\n",
        "    PauliTerm([Pauli.X, Pauli.I, Pauli.X, Pauli.I, Pauli.I, Pauli.I], 0.182),\n",
        "    PauliTerm([Pauli.I, Pauli.X, Pauli.I, Pauli.X, Pauli.I, Pauli.I], 0.139),\n",
        "    PauliTerm([Pauli.Y, Pauli.Y, Pauli.I, Pauli.I, Pauli.I, Pauli.I], -0.047),\n",
        "    PauliTerm([Pauli.Z, Pauli.I, Pauli.Z, Pauli.I, Pauli.Z, Pauli.I], 0.209),\n",
        "    PauliTerm([Pauli.Z, Pauli.Z, Pauli.Z, Pauli.Z, Pauli.I, Pauli.I], -0.154),\n",
        "    PauliTerm([Pauli.I, Pauli.Z, Pauli.I, Pauli.Z, Pauli.Z, Pauli.Z], 0.198),\n",
        "    PauliTerm([Pauli.X, Pauli.I, Pauli.I, Pauli.I, Pauli.X, Pauli.I], 0.061),\n",
        "    PauliTerm([Pauli.I, Pauli.I, Pauli.Y, Pauli.I, Pauli.Y, Pauli.I], -0.027),\n",
        "    PauliTerm([Pauli.Z, Pauli.I, Pauli.Z, Pauli.Z, Pauli.I, Pauli.Z], 0.118),\n",
        "]"
      ]
    },
    {
      "cell_type": "code",
      "execution_count": null,
      "id": "bebb7230-4ef3-4cd8-aad3-7e9c01adb36f",
      "metadata": {
        "id": "bebb7230-4ef3-4cd8-aad3-7e9c01adb36f"
      },
      "outputs": [],
      "source": [
        "### Your Code Goes Here ###\n",
        "### Use as many cells as you need..."
      ]
    },
    {
      "cell_type": "code",
      "source": [
        "### Your Code Goes Here ###\n",
        "#HAM is the Hamiltonian as a np.matrix object\n",
        "HAM=np.matrix(hamiltonian_to_matrix(HAMILTONIAN_H2O))\n",
        "\n",
        "#finding the eigenvalues (and eigenvectors) of HAM\n",
        "eigenvalues,eigenvectors=np.linalg.eigh(HAM)\n",
        "\n",
        "#print the eigenvalues\n",
        "print(eigenvalues)"
      ],
      "metadata": {
        "id": "hZ-JtND7Dxcm"
      },
      "id": "hZ-JtND7Dxcm",
      "execution_count": null,
      "outputs": []
    },
    {
      "cell_type": "code",
      "source": [
        "E_min=0\n",
        "E_max=-5\n",
        "number_intervals=10\n",
        "E=np.linspace(E_min,E_max,num=number_intervals)\n",
        "#In the paper they set the RMS of t to 10, if f is normal then RMS(r)=\\sqrt(sigma^2+E[X]^2)\n",
        "\n",
        "@qfunc\n",
        "def main(aux:Output[QArray[QBit]],w:CReal):\n",
        "    out=QArray(\"out\", QBit)\n",
        "    allocate(6, out)\n",
        "    allocate(15, aux)\n",
        "    hadamard_transform(aux)\n",
        "    X(out[1])\n",
        "\n",
        "    t=np.random.normal(0, 10, 10)\n",
        "\n",
        "    for i in range(10):\n",
        "      Z(aux[i])\n",
        "    for i in range(10):\n",
        "      control(aux[i],lambda:\n",
        "      suzuki_trotter(\n",
        "          HAMILTONIAN_H2O,\n",
        "          evolution_coefficient=t[i],\n",
        "          order=1,\n",
        "          repetitions=30,\n",
        "          qbv=out,))\n",
        "    for i in range(10):\n",
        "      phase(aux[i],w*t[i])\n",
        "\n",
        "    hadamard_transform(aux)\n",
        "\n",
        "qmod = create_model(main)\n",
        "qprog = synthesize(qmod)\n",
        "\n",
        "execution_session = ExecutionSession(qprog)\n",
        "results=[]\n",
        "\n",
        "for i in E:\n",
        "  results.append(execution_session.sample({\"w\": i}))\n"
      ],
      "metadata": {
        "id": "wYbtM7NT_XDi"
      },
      "id": "wYbtM7NT_XDi",
      "execution_count": null,
      "outputs": []
    },
    {
      "cell_type": "code",
      "source": [
        "res=[]\n",
        "m=[1 for i in range(10)]\n",
        "k=0\n",
        "for i in range(len(results)):\n",
        "  for j in range(len(results[i].parsed_counts)):\n",
        "    if str(list(results[i].parsed_counts[j])[0][1])==\"{'aux': \"+str(m)+\"}\" and k==0:\n",
        "      res.append([list(results[i].parsed_counts[j])[1][1]])\n",
        "      k=1\n",
        "\n",
        "  if k==0:\n",
        "    res.append([0])\n",
        "  k=0\n",
        "\n",
        "res"
      ],
      "metadata": {
        "id": "zl9lf7RI_xsy"
      },
      "id": "zl9lf7RI_xsy",
      "execution_count": null,
      "outputs": []
    },
    {
      "cell_type": "code",
      "source": [
        "### Your Code Goes Here ###\n",
        "\n",
        "# Parameters for the Rodeo Algorithm\n",
        "times = np.linspace(0.1, 1.0, 6)  # Evolution times for ancilla qubits\n",
        "energies = np.linspace(-1.0, 1.0, 6)  # Energy levels for phase rotations\n",
        "\n",
        "# Set up the quantum circuit\n",
        "num_ancilla = len(times)\n",
        "@qfunc\n",
        "def main(ancilla: Output[QArray[QBit]], object_system: Output[QArray[QBit]]):\n",
        "  allocate(num_ancilla, ancilla)  # Ancilla qubits\n",
        "  allocate(6, object_system)  # 6D object system\n",
        "\n",
        "  # Step 2: Initialize ancilla qubits to |1⟩ and apply Hadamard gates\n",
        "  for i in range(num_ancilla):\n",
        "      X(ancilla[i])  # Set ancilla to |1⟩\n",
        "  hadamard_transform(ancilla)  # Apply Hadamard gates\n",
        "\n",
        "  # Step 3: Controlled time evolution and phase rotation\n",
        "  for n, t_n in enumerate(times):\n",
        "      # Controlled Hamiltonian evolution\n",
        "\n",
        "      control(ancilla[n], lambda:\n",
        "        suzuki_trotter(\n",
        "            HAMILTONIAN_H2O,\n",
        "            evolution_coefficient=t_n,\n",
        "            order=1,\n",
        "            repetitions=30,\n",
        "            qbv=object_system,\n",
        "        )\n",
        "      )\n",
        "\n",
        "      # Phase rotation P(E * t_n)\n",
        "      PHASE(energies[n] * t_n, ancilla[n])\n",
        "\n",
        "  # Step 4: Final Hadamard on ancilla qubits\n",
        "  hadamard_transform(ancilla)\n",
        "\n",
        "\n",
        "\n",
        "\n",
        "\n",
        "\n",
        "\n",
        "# Simulate the circuit\n",
        "qmod = create_model(main)\n",
        "qprog = synthesize(qmod)\n",
        "\n",
        "\n",
        "job = execute(qprog)\n",
        "result = job.result()\n",
        "print(\"The result of the arithmetic calculation: \", parsed_counts)\n",
        "\n",
        "show(qprog)\n"
      ],
      "metadata": {
        "id": "KnEloT9ahj-S"
      },
      "id": "KnEloT9ahj-S",
      "execution_count": null,
      "outputs": []
    },
    {
      "cell_type": "code",
      "source": [
        "res=[]\n",
        "m=[1 for i in range(10)]\n",
        "k=0\n",
        "for i in range(len(results)):\n",
        "  for j in range(len(results[i].parsed_counts)):\n",
        "    if str(list(results[i].parsed_counts[j])[0][1])==\"{'aux': \"+str(m)+\"}\" and k==0:\n",
        "      res.append([list(results[i].parsed_counts[j])[1][1]])\n",
        "      k=1\n",
        "\n",
        "  if k==0:\n",
        "    res.append([0])\n",
        "  k=0\n",
        "\n",
        "res"
      ],
      "metadata": {
        "id": "tQkD75VZiOL9"
      },
      "id": "tQkD75VZiOL9",
      "execution_count": null,
      "outputs": []
    }
  ],
  "metadata": {
    "kernelspec": {
      "display_name": "Python 3 (ipykernel)",
      "language": "python",
      "name": "python3"
    },
    "language_info": {
      "codemirror_mode": {
        "name": "ipython",
        "version": 3
      },
      "file_extension": ".py",
      "mimetype": "text/x-python",
      "name": "python",
      "nbconvert_exporter": "python",
      "pygments_lexer": "ipython3",
      "version": "3.11.9"
    },
    "vscode": {
      "interpreter": {
        "hash": "529b62266d4f537a408698cf820854c65fe877011c7661f0f70aa11c4383fddc"
      }
    },
    "colab": {
      "provenance": []
    }
  },
  "nbformat": 4,
  "nbformat_minor": 5
}